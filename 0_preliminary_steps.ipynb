{
 "cells": [
  {
   "cell_type": "markdown",
   "id": "835e0e9d",
   "metadata": {},
   "source": [
    "# Preliminary Steps"
   ]
  },
  {
   "cell_type": "markdown",
   "id": "bfa503ff",
   "metadata": {},
   "source": [
    "This notebook contains some preliminary steps that were undertaken in order to build the network for our model. In particular we:\n",
    "- manipulate data about Milan underground ([routes](https://dati.comune.milano.it/dataset/ds539_atm-percorsi-linee-metropolitane), [stops](https://dati.comune.milano.it/dataset/ds535_atm-fermate-linee-metropolitane) and [sequence](https://dati.comune.milano.it/dataset/ds533_atm-composizione-percorsi-linee-metropolitane)) and Milan surface transit ([routes](https://dati.comune.milano.it/dataset/ds538_atm-percorsi-linee-di-superficie-urbane), [stops](https://dati.comune.milano.it/dataset/ds534-atm-fermate-linee-di-superficie-urbane) and [sequence](https://dati.comune.milano.it/dataset/ds532-atm-composizione-percorsi-linee-di-superficie-urbane));\n",
    "- use OpenStreetMap data to get information on the facilities in Milan and their geographic positions;\n",
    "- manipulate ISTAT data on daily activities for easier later usage."
   ]
  },
  {
   "cell_type": "markdown",
   "id": "b832d180",
   "metadata": {},
   "source": [
    "# Table of Contents\n",
    "1. [Libraries and Import data](#data)<br>\n",
    "2. [Finding Points of interest](#point)<br>\n",
    "3. [Obtaining stops that are closer than 200 m](#closer)<br>\n",
    "4. [Scraping the NIL for each stop](#scrape)<br>\n",
    "5. [Obtaining the Daily Time Breakdown for Activities](#sett)<br>\n",
    "6. [Saving Files](#save)<br>"
   ]
  },
  {
   "cell_type": "code",
   "execution_count": 3,
   "id": "680d7097",
   "metadata": {},
   "outputs": [],
   "source": [
    "# auxiliary function to print dataframes side by side\n",
    "from IPython.display import display_html\n",
    "from itertools import chain,cycle\n",
    "def display_side_by_side(*args,titles=cycle([''])):\n",
    "    html_str=''\n",
    "    for df,title in zip(args, chain(titles,cycle(['</br>'])) ):\n",
    "        html_str+='<th style=\"text-align:center\"><td style=\"vertical-align:top\">'\n",
    "        html_str+=f'<h2>{title}</h2>'\n",
    "        html_str+=df.to_html().replace('table','table style=\"display:inline\"')\n",
    "        html_str+='</td></th>'\n",
    "    display_html(html_str,raw=True)"
   ]
  },
  {
   "cell_type": "markdown",
   "id": "09ced8b1",
   "metadata": {},
   "source": [
    "# 1. Libraries and Import Data <a name=\"data\"></a>"
   ]
  },
  {
   "cell_type": "code",
   "execution_count": 1,
   "id": "9b86abf8",
   "metadata": {},
   "outputs": [],
   "source": [
    "import numpy as np\n",
    "import pandas as pd\n",
    "import matplotlib.pyplot as plt\n",
    "from itertools import combinations\n",
    "from geopy import distance\n",
    "from tqdm.notebook import tqdm"
   ]
  },
  {
   "cell_type": "code",
   "execution_count": 2,
   "id": "68e4043a",
   "metadata": {},
   "outputs": [
    {
     "name": "stderr",
     "output_type": "stream",
     "text": [
      "/home/cecilia/anaconda3/lib/python3.9/site-packages/IPython/core/interactiveshell.py:3444: DtypeWarning: Columns (8) have mixed types.Specify dtype option on import or set low_memory=False.\n",
      "  exec(code_obj, self.user_global_ns, self.user_ns)\n"
     ]
    }
   ],
   "source": [
    "percorsi_metro = pd.read_csv('data/tpl_metropercorsi.csv', sep = ';')\n",
    "percorsi_sup = pd.read_csv('data/tpl_percorsi.csv', sep = ';')\n",
    "fermate_metro = pd.read_csv('data/tpl_metrofermate.csv', sep = ';')\n",
    "fermate_sup = pd.read_csv('data/tpl_fermate.csv', sep = ';')\n",
    "sequenza_metro = pd.read_csv('data/tpl_metrosequenza.csv', sep = ';')\n",
    "sequenza_sup = pd.read_csv('data/tpl_sequenza.csv', sep = ';')\n",
    "activity = pd.read_csv('data/istat_attivita.csv')"
   ]
  },
  {
   "cell_type": "markdown",
   "id": "66636a32",
   "metadata": {},
   "source": [
    "### Displaying Source Data"
   ]
  },
  {
   "cell_type": "markdown",
   "id": "2a6f8b0c",
   "metadata": {},
   "source": [
    "Below we display the source data we are starting from."
   ]
  },
  {
   "cell_type": "code",
   "execution_count": 5,
   "id": "4e2c418e",
   "metadata": {
    "scrolled": true
   },
   "outputs": [
    {
     "data": {
      "text/html": [
       "<div>\n",
       "<style scoped>\n",
       "    .dataframe tbody tr th:only-of-type {\n",
       "        vertical-align: middle;\n",
       "    }\n",
       "\n",
       "    .dataframe tbody tr th {\n",
       "        vertical-align: top;\n",
       "    }\n",
       "\n",
       "    .dataframe thead th {\n",
       "        text-align: right;\n",
       "    }\n",
       "</style>\n",
       "<table border=\"1\" class=\"dataframe\">\n",
       "  <thead>\n",
       "    <tr style=\"text-align: right;\">\n",
       "      <th></th>\n",
       "      <th>linea</th>\n",
       "      <th>mezzo</th>\n",
       "      <th>percorso</th>\n",
       "      <th>nome</th>\n",
       "      <th>lung_km</th>\n",
       "      <th>num_ferm</th>\n",
       "      <th>LONG_X_4326_CENTROID</th>\n",
       "      <th>LAT_Y_4326_CENTROID</th>\n",
       "      <th>Location</th>\n",
       "    </tr>\n",
       "  </thead>\n",
       "  <tbody>\n",
       "    <tr>\n",
       "      <th>0</th>\n",
       "      <td>1</td>\n",
       "      <td>METRO</td>\n",
       "      <td>100002</td>\n",
       "      <td>BISCEGLIE - SESTO 1 MAGGIO FS</td>\n",
       "      <td>16.38</td>\n",
       "      <td>27</td>\n",
       "      <td>9.187530</td>\n",
       "      <td>45.483492</td>\n",
       "      <td>(45.4834919858028, 9.18753014371278)</td>\n",
       "    </tr>\n",
       "    <tr>\n",
       "      <th>1</th>\n",
       "      <td>1</td>\n",
       "      <td>METRO</td>\n",
       "      <td>100013</td>\n",
       "      <td>MOLINO DORINO - SESTO 1 MAGGIO FS</td>\n",
       "      <td>19.18</td>\n",
       "      <td>29</td>\n",
       "      <td>9.176966</td>\n",
       "      <td>45.490408</td>\n",
       "      <td>(45.4904076482823, 9.17696606894991)</td>\n",
       "    </tr>\n",
       "    <tr>\n",
       "      <th>2</th>\n",
       "      <td>1</td>\n",
       "      <td>METRO</td>\n",
       "      <td>100023</td>\n",
       "      <td>QT8 - SESTO 1 MAGGIO FS</td>\n",
       "      <td>15.07</td>\n",
       "      <td>24</td>\n",
       "      <td>9.196166</td>\n",
       "      <td>45.488854</td>\n",
       "      <td>(45.488854318307, 9.19616619556975)</td>\n",
       "    </tr>\n",
       "    <tr>\n",
       "      <th>3</th>\n",
       "      <td>1</td>\n",
       "      <td>METRO</td>\n",
       "      <td>100030</td>\n",
       "      <td>RHO FIERAMILANO - SESTO 1 MAGGIO FS</td>\n",
       "      <td>21.16</td>\n",
       "      <td>31</td>\n",
       "      <td>9.168974</td>\n",
       "      <td>45.492241</td>\n",
       "      <td>(45.492241352433, 9.16897435263357)</td>\n",
       "    </tr>\n",
       "    <tr>\n",
       "      <th>4</th>\n",
       "      <td>1</td>\n",
       "      <td>METRO</td>\n",
       "      <td>100033</td>\n",
       "      <td>SESTO 1 MAGGIO FS - BISCEGLIE</td>\n",
       "      <td>16.38</td>\n",
       "      <td>27</td>\n",
       "      <td>9.187530</td>\n",
       "      <td>45.483492</td>\n",
       "      <td>(45.4834919858028, 9.18753014371278)</td>\n",
       "    </tr>\n",
       "  </tbody>\n",
       "</table>\n",
       "</div>"
      ],
      "text/plain": [
       "   linea  mezzo  percorso                                 nome  lung_km  \\\n",
       "0      1  METRO    100002        BISCEGLIE - SESTO 1 MAGGIO FS    16.38   \n",
       "1      1  METRO    100013    MOLINO DORINO - SESTO 1 MAGGIO FS    19.18   \n",
       "2      1  METRO    100023              QT8 - SESTO 1 MAGGIO FS    15.07   \n",
       "3      1  METRO    100030  RHO FIERAMILANO - SESTO 1 MAGGIO FS    21.16   \n",
       "4      1  METRO    100033        SESTO 1 MAGGIO FS - BISCEGLIE    16.38   \n",
       "\n",
       "   num_ferm  LONG_X_4326_CENTROID  LAT_Y_4326_CENTROID  \\\n",
       "0        27              9.187530            45.483492   \n",
       "1        29              9.176966            45.490408   \n",
       "2        24              9.196166            45.488854   \n",
       "3        31              9.168974            45.492241   \n",
       "4        27              9.187530            45.483492   \n",
       "\n",
       "                               Location  \n",
       "0  (45.4834919858028, 9.18753014371278)  \n",
       "1  (45.4904076482823, 9.17696606894991)  \n",
       "2   (45.488854318307, 9.19616619556975)  \n",
       "3   (45.492241352433, 9.16897435263357)  \n",
       "4  (45.4834919858028, 9.18753014371278)  "
      ]
     },
     "execution_count": 5,
     "metadata": {},
     "output_type": "execute_result"
    }
   ],
   "source": [
    "percorsi_metro.head()"
   ]
  },
  {
   "cell_type": "code",
   "execution_count": 7,
   "id": "72db91b1",
   "metadata": {
    "scrolled": true
   },
   "outputs": [
    {
     "data": {
      "text/html": [
       "<th style=\"text-align:center\"><td style=\"vertical-align:top\"><h2></h2><table style=\"display:inline\" border=\"1\" class=\"dataframe\">\n",
       "  <thead>\n",
       "    <tr style=\"text-align: right;\">\n",
       "      <th></th>\n",
       "      <th>id_amat</th>\n",
       "      <th>nome</th>\n",
       "      <th>linee</th>\n",
       "      <th>LONG_X_4326</th>\n",
       "      <th>LAT_Y_4326</th>\n",
       "      <th>Location</th>\n",
       "    </tr>\n",
       "  </thead>\n",
       "  <tbody>\n",
       "    <tr>\n",
       "      <th>0</th>\n",
       "      <td>889</td>\n",
       "      <td>TRE TORRI</td>\n",
       "      <td>5</td>\n",
       "      <td>9.156675</td>\n",
       "      <td>45.478140</td>\n",
       "      <td>(45.478140184674, 9.15667532734001)</td>\n",
       "    </tr>\n",
       "    <tr>\n",
       "      <th>1</th>\n",
       "      <td>890</td>\n",
       "      <td>ZARA</td>\n",
       "      <td>3,5</td>\n",
       "      <td>9.192601</td>\n",
       "      <td>45.492664</td>\n",
       "      <td>(45.4926644010284, 9.19260110788448)</td>\n",
       "    </tr>\n",
       "    <tr>\n",
       "      <th>2</th>\n",
       "      <td>891</td>\n",
       "      <td>WAGNER</td>\n",
       "      <td>1</td>\n",
       "      <td>9.155914</td>\n",
       "      <td>45.467950</td>\n",
       "      <td>(45.4679501010333, 9.15591440789601)</td>\n",
       "    </tr>\n",
       "    <tr>\n",
       "      <th>3</th>\n",
       "      <td>892</td>\n",
       "      <td>VIMODRONE</td>\n",
       "      <td>2</td>\n",
       "      <td>9.285989</td>\n",
       "      <td>45.515783</td>\n",
       "      <td>(45.5157833010196, 9.28598910784982)</td>\n",
       "    </tr>\n",
       "    <tr>\n",
       "      <th>4</th>\n",
       "      <td>893</td>\n",
       "      <td>VILLA S.G.</td>\n",
       "      <td>1</td>\n",
       "      <td>9.226130</td>\n",
       "      <td>45.517455</td>\n",
       "      <td>(45.5174545010237, 9.22613020787423)</td>\n",
       "    </tr>\n",
       "  </tbody>\n",
       "</table style=\"display:inline\"></td></th><th style=\"text-align:center\"><td style=\"vertical-align:top\"><h2></h2><table style=\"display:inline\" border=\"1\" class=\"dataframe\">\n",
       "  <thead>\n",
       "    <tr style=\"text-align: right;\">\n",
       "      <th></th>\n",
       "      <th>percorso</th>\n",
       "      <th>num</th>\n",
       "      <th>id_ferm</th>\n",
       "    </tr>\n",
       "  </thead>\n",
       "  <tbody>\n",
       "    <tr>\n",
       "      <th>0</th>\n",
       "      <td>100067</td>\n",
       "      <td>19</td>\n",
       "      <td>911</td>\n",
       "    </tr>\n",
       "    <tr>\n",
       "      <th>1</th>\n",
       "      <td>100089</td>\n",
       "      <td>7</td>\n",
       "      <td>961</td>\n",
       "    </tr>\n",
       "    <tr>\n",
       "      <th>2</th>\n",
       "      <td>100050</td>\n",
       "      <td>16</td>\n",
       "      <td>926</td>\n",
       "    </tr>\n",
       "    <tr>\n",
       "      <th>3</th>\n",
       "      <td>100002</td>\n",
       "      <td>26</td>\n",
       "      <td>902</td>\n",
       "    </tr>\n",
       "    <tr>\n",
       "      <th>4</th>\n",
       "      <td>100013</td>\n",
       "      <td>7</td>\n",
       "      <td>939</td>\n",
       "    </tr>\n",
       "  </tbody>\n",
       "</table style=\"display:inline\"></td></th>"
      ]
     },
     "metadata": {},
     "output_type": "display_data"
    }
   ],
   "source": [
    "display_side_by_side(fermate_metro.head(),sequenza_metro.head())"
   ]
  },
  {
   "cell_type": "code",
   "execution_count": 13,
   "id": "1ae1dabc",
   "metadata": {},
   "outputs": [
    {
     "data": {
      "text/html": [
       "<div>\n",
       "<style scoped>\n",
       "    .dataframe tbody tr th:only-of-type {\n",
       "        vertical-align: middle;\n",
       "    }\n",
       "\n",
       "    .dataframe tbody tr th {\n",
       "        vertical-align: top;\n",
       "    }\n",
       "\n",
       "    .dataframe thead th {\n",
       "        text-align: right;\n",
       "    }\n",
       "</style>\n",
       "<table border=\"1\" class=\"dataframe\">\n",
       "  <thead>\n",
       "    <tr style=\"text-align: right;\">\n",
       "      <th></th>\n",
       "      <th>ITTER107</th>\n",
       "      <th>Territorio</th>\n",
       "      <th>TIPO_DATO34</th>\n",
       "      <th>Tipo dato</th>\n",
       "      <th>T_BIS</th>\n",
       "      <th>Periodo temporale di riferimento</th>\n",
       "      <th>SEXISTAT1</th>\n",
       "      <th>Sesso</th>\n",
       "      <th>IT_ACL2008</th>\n",
       "      <th>Tipo attività</th>\n",
       "      <th>ETA1</th>\n",
       "      <th>Classe di età</th>\n",
       "      <th>TIME</th>\n",
       "      <th>Seleziona periodo</th>\n",
       "      <th>Value</th>\n",
       "      <th>Flag Codes</th>\n",
       "      <th>Flags</th>\n",
       "    </tr>\n",
       "  </thead>\n",
       "  <tbody>\n",
       "    <tr>\n",
       "      <th>0</th>\n",
       "      <td>3</td>\n",
       "      <td>periferia area metropolitana</td>\n",
       "      <td>PERE_GE15</td>\n",
       "      <td>persone di 15 anni e più per tipo di attività ...</td>\n",
       "      <td>SUN_04_10-04_20</td>\n",
       "      <td>domenica 04:10 - 04:20</td>\n",
       "      <td>1</td>\n",
       "      <td>maschi</td>\n",
       "      <td>0</td>\n",
       "      <td>dormire, mangiare e altra cura della persona</td>\n",
       "      <td>Y_GE15</td>\n",
       "      <td>15 anni e più</td>\n",
       "      <td>2013</td>\n",
       "      <td>2013</td>\n",
       "      <td>98.8</td>\n",
       "      <td>NaN</td>\n",
       "      <td>NaN</td>\n",
       "    </tr>\n",
       "    <tr>\n",
       "      <th>1</th>\n",
       "      <td>3</td>\n",
       "      <td>periferia area metropolitana</td>\n",
       "      <td>PERE_GE15</td>\n",
       "      <td>persone di 15 anni e più per tipo di attività ...</td>\n",
       "      <td>SUN_04_40-04_50</td>\n",
       "      <td>domenica 04:40 - 04:50</td>\n",
       "      <td>1</td>\n",
       "      <td>maschi</td>\n",
       "      <td>0</td>\n",
       "      <td>dormire, mangiare e altra cura della persona</td>\n",
       "      <td>Y_GE15</td>\n",
       "      <td>15 anni e più</td>\n",
       "      <td>2013</td>\n",
       "      <td>2013</td>\n",
       "      <td>98.6</td>\n",
       "      <td>NaN</td>\n",
       "      <td>NaN</td>\n",
       "    </tr>\n",
       "  </tbody>\n",
       "</table>\n",
       "</div>"
      ],
      "text/plain": [
       "  ITTER107                    Territorio TIPO_DATO34  \\\n",
       "0        3  periferia area metropolitana   PERE_GE15   \n",
       "1        3  periferia area metropolitana   PERE_GE15   \n",
       "\n",
       "                                           Tipo dato            T_BIS  \\\n",
       "0  persone di 15 anni e più per tipo di attività ...  SUN_04_10-04_20   \n",
       "1  persone di 15 anni e più per tipo di attività ...  SUN_04_40-04_50   \n",
       "\n",
       "  Periodo temporale di riferimento  SEXISTAT1   Sesso IT_ACL2008  \\\n",
       "0           domenica 04:10 - 04:20          1  maschi          0   \n",
       "1           domenica 04:40 - 04:50          1  maschi          0   \n",
       "\n",
       "                                  Tipo attività    ETA1  Classe di età  TIME  \\\n",
       "0  dormire, mangiare e altra cura della persona  Y_GE15  15 anni e più  2013   \n",
       "1  dormire, mangiare e altra cura della persona  Y_GE15  15 anni e più  2013   \n",
       "\n",
       "   Seleziona periodo  Value  Flag Codes Flags  \n",
       "0               2013   98.8         NaN   NaN  \n",
       "1               2013   98.6         NaN   NaN  "
      ]
     },
     "execution_count": 13,
     "metadata": {},
     "output_type": "execute_result"
    }
   ],
   "source": [
    "activity.head(2)"
   ]
  },
  {
   "cell_type": "markdown",
   "id": "a5bc9815",
   "metadata": {},
   "source": [
    "# 2. Obtaining Stops that are Closer than 200m<a name=\"closer\"></a>"
   ]
  },
  {
   "cell_type": "markdown",
   "id": "26020264",
   "metadata": {},
   "source": [
    "<div class=\"alert alert-success\" >\n",
    "In this section we identify all the stops that are within 200m from one another which we will connect by foot edges in the network."
   ]
  },
  {
   "cell_type": "code",
   "execution_count": 5,
   "id": "57341190",
   "metadata": {},
   "outputs": [],
   "source": [
    "# building dictionary with coordinates for all stops\n",
    "coords = dict()\n",
    "\n",
    "for i in percorsi_metro.percorso.unique():\n",
    "    m = sequenza_metro[sequenza_metro.percorso == i].sort_values('num')\n",
    "    n_stops = max(m.num)\n",
    "    df1 = pd.merge(m[['id_ferm']], fermate_metro[['id_amat', 'LONG_X_4326', 'LAT_Y_4326']], left_on= 'id_ferm', right_on='id_amat')\n",
    "    coord = {df1.id_ferm[i]: (df1.LONG_X_4326[i], df1.LAT_Y_4326[i]) for i in range(n_stops)}\n",
    "    coords = {**coords, **coord}\n",
    "\n",
    "for i in percorsi_sup.percorso.unique():\n",
    "    m = sequenza_sup[sequenza_sup.percorso == i].sort_values('num')\n",
    "    n_stops = max(m.num)\n",
    "    df1 = pd.merge(m[['id_ferm']], fermate_sup[['id_amat', 'LONG_X_4326', 'LAT_Y_4326']], left_on= 'id_ferm', right_on='id_amat')\n",
    "    coord = {df1.id_ferm[i]: (df1.LONG_X_4326[i], df1.LAT_Y_4326[i]) for i in range(n_stops)}\n",
    "    coords = {**coords, **coord}"
   ]
  },
  {
   "cell_type": "code",
   "execution_count": null,
   "id": "a7c754f4",
   "metadata": {},
   "outputs": [],
   "source": [
    "# finding stops that are closer than 200m\n",
    "stops = list(combinations(list(coords.keys()), 2))\n",
    "keep = []\n",
    "for i in range(len(stops)):\n",
    "    if distance.distance(coords[stops[i][0]], coords[stops[i][1]]).km <= 0.2:\n",
    "        keep.append(stops[i])\n",
    "        \n",
    "#pd.DataFrame(keep).to_csv('data/keep.csv')"
   ]
  },
  {
   "cell_type": "markdown",
   "id": "04bc7e2e",
   "metadata": {},
   "source": [
    "# 3. Finding Points of Interest<a name=\"point\"></a>"
   ]
  },
  {
   "cell_type": "markdown",
   "id": "d7e3c15f",
   "metadata": {},
   "source": [
    "<div class=\"alert alert-success\" >\n",
    "In this section we collect the set of points of interest located in Milan from OpenStreetMap data through Pyrosm. Then, we group them into 4 categories: school, food, office and leisure. This categories match the ones for the daily activities in ISTAT data. Lastly, we assign each POI to the stops closest to it."
   ]
  },
  {
   "cell_type": "markdown",
   "id": "c94ddc8c",
   "metadata": {},
   "source": [
    "Must install (did it from terminal): \n",
    "\n",
    "`conda install -c conda-forge pyrosm` "
   ]
  },
  {
   "cell_type": "markdown",
   "id": "4fcb77c9",
   "metadata": {},
   "source": [
    "Documentation: https://pyrosm.readthedocs.io/en/latest/basics.html\n",
    "\n",
    "Data extracted in .osm.pbf format from: https://extract.bbbike.org/"
   ]
  },
  {
   "cell_type": "code",
   "execution_count": 85,
   "id": "3856af80",
   "metadata": {},
   "outputs": [],
   "source": [
    "from pyrosm import OSM\n",
    "from pyrosm import get_data\n",
    "\n",
    "# Initialize the OSM parser object\n",
    "osm = OSM(\"./data/milan.osm.pbf\")"
   ]
  },
  {
   "cell_type": "markdown",
   "id": "dbafb409",
   "metadata": {},
   "source": [
    "Pyrosm is a parser of OSM files, i.e. OpenStreetMaps files containing various info regarding a specific downloaded area. Areas are tagged with a series of \"primary features\" , each of which has its own most likely sub-tags. \n",
    "\n",
    "Here is the complete list and meaning of the primary features: [OpenStreetMap Wiki](https://wiki.openstreetmap.org/wiki/Map_features)\n",
    "\n",
    "For example:\n",
    "- \"amenities\" are used for describing useful and important facilities for visitors and residents. Facilities include for example toilets, telephones, banks, pharmacies, prisons and schools;\n",
    "\n",
    "- \"building\" is used to identify individual buildings or groups of connected buildings;\n",
    "\n",
    "- \"highways\" is used to describe roads and footpaths;\n",
    "\n",
    "- \"office\" is a place of business where administrative or professional work is carried out;\n",
    "\n",
    "- \"shop\" is used as a place of business that has stocked goods for sale;\n",
    "\n",
    "- \"route\" is used to describe routes of all different kind (buses, railway etc.);\n",
    "\n",
    "- \"public transport\" is used for features related to public transport. For example: railway stations, bus stops and services."
   ]
  },
  {
   "cell_type": "markdown",
   "id": "5f3d766c",
   "metadata": {},
   "source": [
    "### Retrieving Points of Interest (POIs)"
   ]
  },
  {
   "cell_type": "markdown",
   "id": "31294ae0",
   "metadata": {},
   "source": [
    "The get_pois method parses Points of Interest from OSM. It supports an optional custom_filter argument. One can also combine multiple filters at the same time.\n",
    "\n",
    "For instance, one can parse all 'amenity' elements AND specific 'shop' elements,\n",
    "such as supermarkets and book stores by specifying:\n",
    "\n",
    "  `custom_filter = {\"amenity\": True, \"shop\": [\"supermarket\", \"books\"]}`"
   ]
  },
  {
   "cell_type": "code",
   "execution_count": 47,
   "id": "b17a805f",
   "metadata": {},
   "outputs": [],
   "source": [
    "# get facilities that match our categories of interest\n",
    "custom_filter = {'office': True, \"amenity\": True, \"shop\": True, \"leisure\": True}\n",
    "pois = osm.get_pois(custom_filter = custom_filter, extra_attributes = None)"
   ]
  },
  {
   "cell_type": "code",
   "execution_count": 48,
   "id": "07304302",
   "metadata": {},
   "outputs": [],
   "source": [
    "# select only a relevant subset of POIs categories\n",
    "amenities = [\"place_of_worship\",\"restaurant\",\"cinema\",\"pub\",\"theater\",\"fast_food\",\"ice_cream\",\"cafe\",\"bar\",\n",
    "            \"community_centre\",\"nightclub\",\"arts_centre\",\"social_center\",\"bbq\",\"gambling\",\"gym\",\n",
    "           \"casino\",\"biergarten\",\"internet_cafe\",\"museum\",\"music_venue\", \"food_court\",\"swingerclub\",\n",
    "           \"events_venue\",\"stripclub\",\"dancing_school\"]\n",
    "\n",
    "offices_amenitites = [\"office\", \"research_institute\", \"coworking_space\"]"
   ]
  },
  {
   "cell_type": "code",
   "execution_count": 49,
   "id": "b4a58edf",
   "metadata": {},
   "outputs": [],
   "source": [
    "pois[\"pois_type\"] = \"empty\" \n",
    "pois[\"office\"] = pois[\"office\"].fillna(\"empty\")\n",
    "pois[\"amenity\"] = pois[\"amenity\"].fillna(\"empty\")\n",
    "pois[\"shop\"] = pois[\"shop\"].fillna(\"empty\")\n",
    "pois[\"leisure\"] = pois[\"leisure\"].fillna(\"empty\")"
   ]
  },
  {
   "cell_type": "code",
   "execution_count": 50,
   "id": "4baa58f4",
   "metadata": {},
   "outputs": [],
   "source": [
    "# auxiliary functions to build a dataframe\n",
    "def pois_type(row):\n",
    "    '''\n",
    "    Identifies 4 different categories to distinguish POIs: school, amenity, office, shop and leisure\n",
    "    '''\n",
    "    if row[\"amenity\"] in [\"school\", \"college\", \"university\", \"dancing_school\", \"music_school\", \"language_school\"]:\n",
    "        return \"school\"\n",
    "    elif row[\"amenity\"] in amenities:\n",
    "        return \"amenity\"\n",
    "    elif row[\"office\"] != \"empty\" or row[\"amenity\"] in offices_amenitites:\n",
    "        return \"office\"\n",
    "    elif row[\"shop\"] != \"empty\":\n",
    "        return \"shop\"\n",
    "    elif row[\"leisure\"] != \"empty\":\n",
    "        return \"leisure\"\n",
    "    else:\n",
    "        return np.nan\n",
    "    \n",
    "def pois_specific(row):\n",
    "    '''\n",
    "    Specify the type of POI\n",
    "    '''\n",
    "    if row[\"amenity\"] != \"empty\":\n",
    "        return row[\"amenity\"]\n",
    "    elif row[\"office\"] != \"empty\":\n",
    "        return row[\"office\"]\n",
    "    elif row[\"shop\"] != \"empty\":\n",
    "        return row[\"shop\"]\n",
    "    elif row[\"leisure\"] != \"empty\":\n",
    "        return row[\"leisure\"]\n",
    "    else:\n",
    "        return np.nan"
   ]
  },
  {
   "cell_type": "code",
   "execution_count": 52,
   "id": "910770cc",
   "metadata": {},
   "outputs": [],
   "source": [
    "pois[\"pois_type\"] = pois.apply(lambda row: pois_type(row), axis=1)\n",
    "pois[\"pois_specific\"] = pois.apply(lambda row: pois_specific(row), axis=1)"
   ]
  },
  {
   "cell_type": "code",
   "execution_count": 86,
   "id": "1123801f",
   "metadata": {},
   "outputs": [],
   "source": [
    "# select only the columns we are interested in\n",
    "amenities = pois.loc[:,[\"lat\", \"lon\" ,\"geometry\",\"pois_type\", \"pois_specific\"]]"
   ]
  },
  {
   "cell_type": "code",
   "execution_count": 87,
   "id": "9c5dc02b",
   "metadata": {},
   "outputs": [],
   "source": [
    "# drop Na to keep POIs with geographic location and type\n",
    "amenities = amenities.dropna().reset_index(drop = True)"
   ]
  },
  {
   "cell_type": "code",
   "execution_count": 88,
   "id": "aec539be",
   "metadata": {},
   "outputs": [
    {
     "data": {
      "text/html": [
       "<div>\n",
       "<style scoped>\n",
       "    .dataframe tbody tr th:only-of-type {\n",
       "        vertical-align: middle;\n",
       "    }\n",
       "\n",
       "    .dataframe tbody tr th {\n",
       "        vertical-align: top;\n",
       "    }\n",
       "\n",
       "    .dataframe thead th {\n",
       "        text-align: right;\n",
       "    }\n",
       "</style>\n",
       "<table border=\"1\" class=\"dataframe\">\n",
       "  <thead>\n",
       "    <tr style=\"text-align: right;\">\n",
       "      <th></th>\n",
       "      <th>lat</th>\n",
       "      <th>lon</th>\n",
       "      <th>geometry</th>\n",
       "      <th>pois_type</th>\n",
       "      <th>pois_specific</th>\n",
       "    </tr>\n",
       "  </thead>\n",
       "  <tbody>\n",
       "    <tr>\n",
       "      <th>0</th>\n",
       "      <td>45.463600</td>\n",
       "      <td>9.150272</td>\n",
       "      <td>POINT (9.15027 45.46360)</td>\n",
       "      <td>amenity</td>\n",
       "      <td>place_of_worship</td>\n",
       "    </tr>\n",
       "    <tr>\n",
       "      <th>1</th>\n",
       "      <td>45.455761</td>\n",
       "      <td>9.138000</td>\n",
       "      <td>POINT (9.13800 45.45576)</td>\n",
       "      <td>amenity</td>\n",
       "      <td>place_of_worship</td>\n",
       "    </tr>\n",
       "    <tr>\n",
       "      <th>2</th>\n",
       "      <td>45.461300</td>\n",
       "      <td>9.154473</td>\n",
       "      <td>POINT (9.15447 45.46130)</td>\n",
       "      <td>amenity</td>\n",
       "      <td>restaurant</td>\n",
       "    </tr>\n",
       "    <tr>\n",
       "      <th>3</th>\n",
       "      <td>45.452396</td>\n",
       "      <td>9.154630</td>\n",
       "      <td>POINT (9.15463 45.45240)</td>\n",
       "      <td>amenity</td>\n",
       "      <td>cinema</td>\n",
       "    </tr>\n",
       "    <tr>\n",
       "      <th>4</th>\n",
       "      <td>45.460430</td>\n",
       "      <td>9.175277</td>\n",
       "      <td>POINT (9.17528 45.46043)</td>\n",
       "      <td>shop</td>\n",
       "      <td>lighting</td>\n",
       "    </tr>\n",
       "  </tbody>\n",
       "</table>\n",
       "</div>"
      ],
      "text/plain": [
       "         lat       lon                  geometry pois_type     pois_specific\n",
       "0  45.463600  9.150272  POINT (9.15027 45.46360)   amenity  place_of_worship\n",
       "1  45.455761  9.138000  POINT (9.13800 45.45576)   amenity  place_of_worship\n",
       "2  45.461300  9.154473  POINT (9.15447 45.46130)   amenity        restaurant\n",
       "3  45.452396  9.154630  POINT (9.15463 45.45240)   amenity            cinema\n",
       "4  45.460430  9.175277  POINT (9.17528 45.46043)      shop          lighting"
      ]
     },
     "execution_count": 88,
     "metadata": {},
     "output_type": "execute_result"
    }
   ],
   "source": [
    "amenities.head()"
   ]
  },
  {
   "cell_type": "code",
   "execution_count": 89,
   "id": "95a31a74",
   "metadata": {},
   "outputs": [],
   "source": [
    "# auxiliary functions to group all food related POIs in the category \"food\" and leisure POIs in category \"leisure\"\n",
    "def food(s):\n",
    "    if s in ['restaurant', 'pub', 'fast_food', 'ice_cream', 'cafe', 'bar', 'bbq', 'food_court']:\n",
    "        return 'food'\n",
    "    else:\n",
    "        return ''\n",
    "\n",
    "def map(s):\n",
    "    if s in ['amenity', 'shop', 'leisure']:\n",
    "        return 'leisure'\n",
    "    elif s in ['amenityfood', 'shopfood']:\n",
    "        return 'food'\n",
    "    else:\n",
    "        return s"
   ]
  },
  {
   "cell_type": "code",
   "execution_count": 90,
   "id": "aaeb46df",
   "metadata": {},
   "outputs": [],
   "source": [
    "amenities['pois_f'] = amenities.pois_type + amenities.pois_specific.apply(food)\n",
    "amenities['category'] = amenities.pois_f.apply(map)"
   ]
  },
  {
   "cell_type": "code",
   "execution_count": 91,
   "id": "e9e2d7a9",
   "metadata": {},
   "outputs": [
    {
     "data": {
      "image/png": "[encoded data removed]",
      "text/plain": [
       "<Figure size 864x864 with 1 Axes>"
      ]
     },
     "metadata": {
      "needs_background": "light"
     },
     "output_type": "display_data"
    }
   ],
   "source": [
    "# plot of the POIs by category: food, leisure, office, school\n",
    "ax = amenities.plot(column='category', markersize=3, figsize=(12,12), legend=True,\n",
    "               legend_kwds=dict(loc='upper left', ncol=1, bbox_to_anchor=(1, 1)))"
   ]
  },
  {
   "cell_type": "code",
   "execution_count": 92,
   "id": "e560c3c0",
   "metadata": {},
   "outputs": [],
   "source": [
    "#amenities.to_csv(\"data/amenities.csv\", index = False)"
   ]
  },
  {
   "cell_type": "markdown",
   "id": "4c4e594d",
   "metadata": {},
   "source": [
    "### Assigning amenities to stops"
   ]
  },
  {
   "cell_type": "markdown",
   "id": "a7a89350",
   "metadata": {},
   "source": [
    "We consider all stops that will become the nodes of our network. For each stop we identify the amenities that are within 500m from it. We then store the information in a dataframe, which indicates how many facilities of a specific category can be reached from each stop."
   ]
  },
  {
   "cell_type": "code",
   "execution_count": 93,
   "id": "d14029b7",
   "metadata": {},
   "outputs": [],
   "source": [
    "amenities = pd.read_csv(\"data/amenities.csv\")"
   ]
  },
  {
   "cell_type": "markdown",
   "id": "14c064fd",
   "metadata": {},
   "source": [
    "<div class=\"alert alert-danger\" >\n",
    "Takes 10h to run!"
   ]
  },
  {
   "cell_type": "code",
   "execution_count": null,
   "id": "c0b43264",
   "metadata": {},
   "outputs": [],
   "source": [
    "# # identify the closest amenities and build the df\n",
    "# am_counts = dict()\n",
    "# for i in tqdm(coords):\n",
    "#     am = {'leisure': 0, 'food': 0, 'school': 0, 'office': 0}\n",
    "\n",
    "#     for j in range(amenities.shape[0]):\n",
    "#         if coords[i][1] - amenities.iloc[j]['lat'] > 0.005:\n",
    "#             pass\n",
    "#         elif distance.distance(coords[i], (amenities.iloc[j]['lon'], amenities.iloc[j]['lat'])).km <= 0.5:\n",
    "#             am[amenities.iloc[j]['category']] += 1\n",
    "#     am_counts[i] = am"
   ]
  },
  {
   "cell_type": "code",
   "execution_count": 17,
   "id": "e96dcbdd",
   "metadata": {},
   "outputs": [
    {
     "data": {
      "text/html": [
       "<div>\n",
       "<style scoped>\n",
       "    .dataframe tbody tr th:only-of-type {\n",
       "        vertical-align: middle;\n",
       "    }\n",
       "\n",
       "    .dataframe tbody tr th {\n",
       "        vertical-align: top;\n",
       "    }\n",
       "\n",
       "    .dataframe thead th {\n",
       "        text-align: right;\n",
       "    }\n",
       "</style>\n",
       "<table border=\"1\" class=\"dataframe\">\n",
       "  <thead>\n",
       "    <tr style=\"text-align: right;\">\n",
       "      <th></th>\n",
       "      <th>leisure</th>\n",
       "      <th>food</th>\n",
       "      <th>school</th>\n",
       "      <th>office</th>\n",
       "    </tr>\n",
       "  </thead>\n",
       "  <tbody>\n",
       "    <tr>\n",
       "      <th>990</th>\n",
       "      <td>9</td>\n",
       "      <td>1</td>\n",
       "      <td>0</td>\n",
       "      <td>0</td>\n",
       "    </tr>\n",
       "    <tr>\n",
       "      <th>949</th>\n",
       "      <td>7</td>\n",
       "      <td>5</td>\n",
       "      <td>0</td>\n",
       "      <td>1</td>\n",
       "    </tr>\n",
       "    <tr>\n",
       "      <th>920</th>\n",
       "      <td>5</td>\n",
       "      <td>3</td>\n",
       "      <td>0</td>\n",
       "      <td>2</td>\n",
       "    </tr>\n",
       "    <tr>\n",
       "      <th>993</th>\n",
       "      <td>16</td>\n",
       "      <td>19</td>\n",
       "      <td>0</td>\n",
       "      <td>0</td>\n",
       "    </tr>\n",
       "    <tr>\n",
       "      <th>957</th>\n",
       "      <td>21</td>\n",
       "      <td>16</td>\n",
       "      <td>0</td>\n",
       "      <td>2</td>\n",
       "    </tr>\n",
       "    <tr>\n",
       "      <th>...</th>\n",
       "      <td>...</td>\n",
       "      <td>...</td>\n",
       "      <td>...</td>\n",
       "      <td>...</td>\n",
       "    </tr>\n",
       "    <tr>\n",
       "      <th>10639</th>\n",
       "      <td>13</td>\n",
       "      <td>8</td>\n",
       "      <td>0</td>\n",
       "      <td>2</td>\n",
       "    </tr>\n",
       "    <tr>\n",
       "      <th>15240</th>\n",
       "      <td>3</td>\n",
       "      <td>3</td>\n",
       "      <td>1</td>\n",
       "      <td>0</td>\n",
       "    </tr>\n",
       "    <tr>\n",
       "      <th>18096</th>\n",
       "      <td>0</td>\n",
       "      <td>0</td>\n",
       "      <td>0</td>\n",
       "      <td>0</td>\n",
       "    </tr>\n",
       "    <tr>\n",
       "      <th>15086</th>\n",
       "      <td>1</td>\n",
       "      <td>4</td>\n",
       "      <td>0</td>\n",
       "      <td>2</td>\n",
       "    </tr>\n",
       "    <tr>\n",
       "      <th>11702</th>\n",
       "      <td>0</td>\n",
       "      <td>0</td>\n",
       "      <td>0</td>\n",
       "      <td>0</td>\n",
       "    </tr>\n",
       "  </tbody>\n",
       "</table>\n",
       "<p>4843 rows × 4 columns</p>\n",
       "</div>"
      ],
      "text/plain": [
       "       leisure  food  school  office\n",
       "990          9     1       0       0\n",
       "949          7     5       0       1\n",
       "920          5     3       0       2\n",
       "993         16    19       0       0\n",
       "957         21    16       0       2\n",
       "...        ...   ...     ...     ...\n",
       "10639       13     8       0       2\n",
       "15240        3     3       1       0\n",
       "18096        0     0       0       0\n",
       "15086        1     4       0       2\n",
       "11702        0     0       0       0\n",
       "\n",
       "[4843 rows x 4 columns]"
      ]
     },
     "execution_count": 17,
     "metadata": {},
     "output_type": "execute_result"
    }
   ],
   "source": [
    "# am_counts_df = pd.DataFrame(am_counts).T\n",
    "# am_counts_df.to_csv('data/nodes_attr_cat.csv')\n",
    "# am_counts_df"
   ]
  },
  {
   "cell_type": "markdown",
   "id": "de698410",
   "metadata": {},
   "source": [
    "# 4. Scraping the NIL for each Stop<a name=\"scrape\"></a>"
   ]
  },
  {
   "cell_type": "markdown",
   "id": "9776eba1",
   "metadata": {},
   "source": [
    "<div class=\"alert alert-success\" > \n",
    "In this section we scrape the Nucleo di Identità Locale (NIL) of each stop from <a href='https://centrostudipim.carto.com/viz/63c429f2-36c6-11e5-aeac-0e018d66dc29/public_map'>here</a>.</div>"
   ]
  },
  {
   "cell_type": "markdown",
   "id": "43f5419b",
   "metadata": {},
   "source": [
    "### Import Data"
   ]
  },
  {
   "cell_type": "code",
   "execution_count": 8,
   "id": "821c3275",
   "metadata": {},
   "outputs": [
    {
     "data": {
      "text/html": [
       "<div>\n",
       "<style scoped>\n",
       "    .dataframe tbody tr th:only-of-type {\n",
       "        vertical-align: middle;\n",
       "    }\n",
       "\n",
       "    .dataframe tbody tr th {\n",
       "        vertical-align: top;\n",
       "    }\n",
       "\n",
       "    .dataframe thead th {\n",
       "        text-align: right;\n",
       "    }\n",
       "</style>\n",
       "<table border=\"1\" class=\"dataframe\">\n",
       "  <thead>\n",
       "    <tr style=\"text-align: right;\">\n",
       "      <th></th>\n",
       "      <th>0</th>\n",
       "      <th>1</th>\n",
       "      <th>coords</th>\n",
       "    </tr>\n",
       "  </thead>\n",
       "  <tbody>\n",
       "    <tr>\n",
       "      <th>990</th>\n",
       "      <td>9.112926</td>\n",
       "      <td>45.455380</td>\n",
       "      <td>45.4553804010375, 9.11292550791171</td>\n",
       "    </tr>\n",
       "    <tr>\n",
       "      <th>949</th>\n",
       "      <td>9.122263</td>\n",
       "      <td>45.457563</td>\n",
       "      <td>45.4575630010367, 9.12226290790823</td>\n",
       "    </tr>\n",
       "    <tr>\n",
       "      <th>920</th>\n",
       "      <td>9.129260</td>\n",
       "      <td>45.459414</td>\n",
       "      <td>45.459413601036, 9.12925970790564</td>\n",
       "    </tr>\n",
       "    <tr>\n",
       "      <th>993</th>\n",
       "      <td>9.136485</td>\n",
       "      <td>45.461504</td>\n",
       "      <td>45.4615040010352, 9.136484507903</td>\n",
       "    </tr>\n",
       "    <tr>\n",
       "      <th>957</th>\n",
       "      <td>9.143028</td>\n",
       "      <td>45.464896</td>\n",
       "      <td>45.4648963010345, 9.14302800790081</td>\n",
       "    </tr>\n",
       "  </tbody>\n",
       "</table>\n",
       "</div>"
      ],
      "text/plain": [
       "            0          1                              coords\n",
       "990  9.112926  45.455380  45.4553804010375, 9.11292550791171\n",
       "949  9.122263  45.457563  45.4575630010367, 9.12226290790823\n",
       "920  9.129260  45.459414   45.459413601036, 9.12925970790564\n",
       "993  9.136485  45.461504    45.4615040010352, 9.136484507903\n",
       "957  9.143028  45.464896  45.4648963010345, 9.14302800790081"
      ]
     },
     "execution_count": 8,
     "metadata": {},
     "output_type": "execute_result"
    }
   ],
   "source": [
    "# load dataset\n",
    "stops = pd.read_csv('data/coordinate_fermate.csv', index_col = 0)\n",
    "\n",
    "# create column with query to search on the map\n",
    "searches = []\n",
    "for row in range(len(stops)): \n",
    "    x = stops.iloc[row,1]\n",
    "    y = stops.iloc[row,0]\n",
    "    searches.append(str(x)+', '+str(y))\n",
    "\n",
    "stops['coords'] = searches\n",
    "stops.head()"
   ]
  },
  {
   "cell_type": "markdown",
   "id": "9c0f5a94",
   "metadata": {},
   "source": [
    "### Create Environment"
   ]
  },
  {
   "cell_type": "code",
   "execution_count": 2,
   "id": "4da5fac5",
   "metadata": {},
   "outputs": [
    {
     "name": "stderr",
     "output_type": "stream",
     "text": [
      "\n",
      "\n",
      "====== WebDriver manager ======\n",
      "Current google-chrome version is 102.0.5005\n",
      "Get LATEST chromedriver version for 102.0.5005 google-chrome\n",
      "There is no [win32] chromedriver for browser 102.0.5005 in cache\n",
      "Trying to download new driver from https://chromedriver.storage.googleapis.com/102.0.5005.61/chromedriver_win32.zip\n",
      "Driver has been saved in cache [C:\\Users\\983020\\.wdm\\drivers\\chromedriver\\win32\\102.0.5005.61]\n",
      "<ipython-input-2-e8e77a3af747>:13: DeprecationWarning: executable_path has been deprecated, please pass in a Service object\n",
      "  driver = webdriver.Chrome(ChromeDriverManager().install())\n"
     ]
    }
   ],
   "source": [
    "from selenium import webdriver\n",
    "from webdriver_manager.chrome import ChromeDriverManager\n",
    "from selenium.webdriver.common.by import By\n",
    "import sys\n",
    "import time\n",
    "sys.path.insert(0,'/usr/lib/chromium-browser/chromedriver')\n",
    "from selenium.webdriver.common.keys import Keys\n",
    "from selenium.webdriver.common.action_chains import ActionChains\n",
    "\n",
    "chrome_options = webdriver.ChromeOptions()\n",
    "driver = webdriver.Chrome(ChromeDriverManager().install())\n",
    "driver.maximize_window()"
   ]
  },
  {
   "cell_type": "code",
   "execution_count": 56,
   "id": "06ef0e17",
   "metadata": {},
   "outputs": [],
   "source": [
    "website = \"https://centrostudipim.carto.com/viz/63c429f2-36c6-11e5-aeac-0e018d66dc29/public_map\""
   ]
  },
  {
   "cell_type": "markdown",
   "id": "06fa1fc0",
   "metadata": {},
   "source": [
    "### Scraping NILs"
   ]
  },
  {
   "cell_type": "code",
   "execution_count": 50,
   "id": "8f9bd7e7",
   "metadata": {},
   "outputs": [],
   "source": [
    "# the following are auxiliary functions used by the main loop below to perform actions on the webpage\n",
    "\n",
    "def input_search(searchbar, coords):\n",
    "    searchbar.send_keys(coords) \n",
    "    searchbar.send_keys(Keys.ENTER)\n",
    "    \n",
    "def find_pin(driver):\n",
    "    pin = None\n",
    "    i = 0\n",
    "    while pin == None and i < 1000:\n",
    "        i+=1\n",
    "        try:\n",
    "            pin = driver.find_element(by = By.XPATH, value = '/html/body/div[2]/div/div/div[1]/div[2]/div[3]/img')\n",
    "        except:\n",
    "            continue\n",
    "    return pin\n",
    "\n",
    "def mouseover(driver, element):\n",
    "    hover = ActionChains(driver).move_to_element(pin)\n",
    "    for i in range(15):\n",
    "        try:\n",
    "            hover.perform()\n",
    "            break\n",
    "        except:\n",
    "            continue\n",
    "            \n",
    "def find_square(driver):\n",
    "    square = None\n",
    "    i = 0\n",
    "    while square == None and i < 5:\n",
    "        i += 1\n",
    "        try:\n",
    "            square = driver.find_element(By.CLASS_NAME, 'cartodb-tooltip-content')\n",
    "        except:\n",
    "            continue\n",
    "    return square\n",
    "\n",
    "def find_text(square):\n",
    "    nil = ''\n",
    "    i = 0\n",
    "    while nil == '' and i < 5:\n",
    "        i += 1\n",
    "        try:\n",
    "            nil = square.find_element(By.TAG_NAME, 'p').text\n",
    "        except:\n",
    "            continue\n",
    "    return nil"
   ]
  },
  {
   "cell_type": "code",
   "execution_count": 210,
   "id": "55accc22",
   "metadata": {},
   "outputs": [],
   "source": [
    "# list to store results\n",
    "NILs = []"
   ]
  },
  {
   "cell_type": "markdown",
   "id": "4f65d29b",
   "metadata": {},
   "source": [
    "<div class=\"alert alert-danger\" >\n",
    "Takes 3h to run!"
   ]
  },
  {
   "cell_type": "code",
   "execution_count": 3,
   "id": "1dd13f17",
   "metadata": {},
   "outputs": [],
   "source": [
    "# for i, c in tqdm(enumerate(stops['coords'])):\n",
    "#     if i%25 == 0:      # reload the website every 25 coordinates\n",
    "#         driver.get(website)\n",
    "#         searchbar = driver.find_element(by = By.CLASS_NAME, value = 'text')      # find the searchbar\n",
    "#     input_search(searchbar, c)       # search the coordinate\n",
    "#     time.sleep(0.1)            # wait for the pin to show up\n",
    "#     pin = find_pin(driver)      # locate the pin\n",
    "    \n",
    "#     if pin == None:       # try again to catch any errors\n",
    "#         pin = find_pin(driver)\n",
    "    \n",
    "#     if pin == None:      # if the pin is still not found\n",
    "#         NILs.append('pin not found')\n",
    "#         searchbar.clear()     # clear search bar\n",
    "#         continue         # go to the next one\n",
    "    \n",
    "#     # hover the mouse over the pin (repeated twice because the website is slow)\n",
    "#     time.sleep(0.1)\n",
    "#     mouseover(driver, pin)\n",
    "#     time.sleep(0.1)\n",
    "#     mouseover(driver, pin)\n",
    "\n",
    "#     # try 2 times to find the square\n",
    "#     square = None\n",
    "#     attempts = 0\n",
    "#     while square == None and attempts < 2:\n",
    "#         attempts += 1\n",
    "#         square = find_square(driver)\n",
    "        \n",
    "#     if square == None:      # if it is not found, continue to the next\n",
    "#         NILs.append('')\n",
    "#         continue\n",
    "        \n",
    "#     # try 2 times to find the text in the square\n",
    "#     nil = ''\n",
    "#     attempts2 = 0\n",
    "#     while nil == '' and attempts2 < 2:\n",
    "#         attempts2 += 1\n",
    "#         nil = find_text(square)\n",
    "        \n",
    "#     NILs.append(nil)     # append the text found\n",
    "#     searchbar.clear()    # clear the search bar for the next iteration"
   ]
  },
  {
   "cell_type": "markdown",
   "id": "44cbdaaf",
   "metadata": {},
   "source": [
    "The process above was actually repeated a couple more times on the missing stops, because the scraping loop would miss a few text boxes due to the slow loading process of the website."
   ]
  },
  {
   "cell_type": "code",
   "execution_count": 45,
   "id": "0e3fd5b7",
   "metadata": {},
   "outputs": [],
   "source": [
    "# add the list to the dataset as a new column\n",
    "stops['nil'] = NILs"
   ]
  },
  {
   "cell_type": "code",
   "execution_count": 4,
   "id": "34c888fa",
   "metadata": {},
   "outputs": [
    {
     "data": {
      "text/html": [
       "<div>\n",
       "<style scoped>\n",
       "    .dataframe tbody tr th:only-of-type {\n",
       "        vertical-align: middle;\n",
       "    }\n",
       "\n",
       "    .dataframe tbody tr th {\n",
       "        vertical-align: top;\n",
       "    }\n",
       "\n",
       "    .dataframe thead th {\n",
       "        text-align: right;\n",
       "    }\n",
       "</style>\n",
       "<table border=\"1\" class=\"dataframe\">\n",
       "  <thead>\n",
       "    <tr style=\"text-align: right;\">\n",
       "      <th></th>\n",
       "      <th>0</th>\n",
       "      <th>1</th>\n",
       "      <th>coords</th>\n",
       "      <th>nil</th>\n",
       "    </tr>\n",
       "  </thead>\n",
       "  <tbody>\n",
       "    <tr>\n",
       "      <th>990</th>\n",
       "      <td>9.112926</td>\n",
       "      <td>45.455380</td>\n",
       "      <td>45.4553804010375, 9.11292550791171</td>\n",
       "      <td>FORZE ARMATE</td>\n",
       "    </tr>\n",
       "    <tr>\n",
       "      <th>949</th>\n",
       "      <td>9.122263</td>\n",
       "      <td>45.457563</td>\n",
       "      <td>45.4575630010367, 9.12226290790823</td>\n",
       "      <td>FORZE ARMATE</td>\n",
       "    </tr>\n",
       "    <tr>\n",
       "      <th>920</th>\n",
       "      <td>9.129260</td>\n",
       "      <td>45.459414</td>\n",
       "      <td>45.459413601036, 9.12925970790564</td>\n",
       "      <td>FORZE ARMATE</td>\n",
       "    </tr>\n",
       "    <tr>\n",
       "      <th>993</th>\n",
       "      <td>9.136485</td>\n",
       "      <td>45.461504</td>\n",
       "      <td>45.4615040010352, 9.136484507903</td>\n",
       "      <td>BANDE NERE</td>\n",
       "    </tr>\n",
       "    <tr>\n",
       "      <th>957</th>\n",
       "      <td>9.143028</td>\n",
       "      <td>45.464896</td>\n",
       "      <td>45.4648963010345, 9.14302800790081</td>\n",
       "      <td>BANDE NERE</td>\n",
       "    </tr>\n",
       "  </tbody>\n",
       "</table>\n",
       "</div>"
      ],
      "text/plain": [
       "            0          1                              coords           nil\n",
       "990  9.112926  45.455380  45.4553804010375, 9.11292550791171  FORZE ARMATE\n",
       "949  9.122263  45.457563  45.4575630010367, 9.12226290790823  FORZE ARMATE\n",
       "920  9.129260  45.459414   45.459413601036, 9.12925970790564  FORZE ARMATE\n",
       "993  9.136485  45.461504    45.4615040010352, 9.136484507903    BANDE NERE\n",
       "957  9.143028  45.464896  45.4648963010345, 9.14302800790081    BANDE NERE"
      ]
     },
     "execution_count": 4,
     "metadata": {},
     "output_type": "execute_result"
    }
   ],
   "source": [
    "stops.head()"
   ]
  },
  {
   "cell_type": "markdown",
   "id": "5a089c13",
   "metadata": {},
   "source": [
    "The missing NILs correspond to stops that are outside Milan and therefore do not have a NIL, as the following plot roughly shows."
   ]
  },
  {
   "cell_type": "code",
   "execution_count": 88,
   "id": "49c72d36",
   "metadata": {},
   "outputs": [
    {
     "data": {
      "image/png": "[encoded data removed]",
      "text/plain": [
       "<Figure size 432x288 with 1 Axes>"
      ]
     },
     "metadata": {
      "needs_background": "light"
     },
     "output_type": "display_data"
    }
   ],
   "source": [
    "missing = stops[stops.nil == '']\n",
    "plt.scatter(x=missing['0'], y=missing['1'])\n",
    "plt.show()"
   ]
  },
  {
   "cell_type": "code",
   "execution_count": null,
   "id": "94db6cfd",
   "metadata": {},
   "outputs": [],
   "source": [
    "# save the dataset as a csv\n",
    "#stops.to_csv('datafermate_NILs.csv')"
   ]
  },
  {
   "cell_type": "markdown",
   "id": "417bda7d",
   "metadata": {},
   "source": [
    "# 5. Obtaining the Daily Time Breakdown for Activities<a name=\"sett\"></a>"
   ]
  },
  {
   "cell_type": "markdown",
   "id": "589e3a4c",
   "metadata": {},
   "source": [
    "<div class=\"alert alert-success\" > \n",
    "In this section we manipulate ISTAT data on daily activities for easier later usage."
   ]
  },
  {
   "cell_type": "code",
   "execution_count": 18,
   "id": "195ec494",
   "metadata": {},
   "outputs": [],
   "source": [
    "df = activity[(activity.Sesso == 'totale')&(activity.Flags.isna() == 1)&(activity.Territorio == 'Italia')\n",
    "              &(activity['Classe di età'] != '15 anni e più')][['Periodo temporale di riferimento',\n",
    "                                                                'Tipo attività', 'Classe di età', 'Value']]\n",
    "\n",
    "a = pd.DataFrame(df['Periodo temporale di riferimento'].str.split(\" \").to_list())\n",
    "b = df.reset_index(drop = True)[a[2]==\"settimanale\"]\n",
    "\n",
    "settimanale = b.set_index(['Classe di età', 'Tipo attività', \n",
    "                           'Periodo temporale di riferimento']).sort_values(['Classe di età', 'Tipo attività', \n",
    "                                                                             'Periodo temporale di riferimento'])\n",
    "# settimanale.to_csv('data/settimanale.csv')"
   ]
  },
  {
   "cell_type": "code",
   "execution_count": 19,
   "id": "effa8dd0",
   "metadata": {
    "scrolled": true
   },
   "outputs": [
    {
     "data": {
      "text/html": [
       "<div>\n",
       "<style scoped>\n",
       "    .dataframe tbody tr th:only-of-type {\n",
       "        vertical-align: middle;\n",
       "    }\n",
       "\n",
       "    .dataframe tbody tr th {\n",
       "        vertical-align: top;\n",
       "    }\n",
       "\n",
       "    .dataframe thead th {\n",
       "        text-align: right;\n",
       "    }\n",
       "</style>\n",
       "<table border=\"1\" class=\"dataframe\">\n",
       "  <thead>\n",
       "    <tr style=\"text-align: right;\">\n",
       "      <th></th>\n",
       "      <th></th>\n",
       "      <th></th>\n",
       "      <th>Value</th>\n",
       "    </tr>\n",
       "    <tr>\n",
       "      <th>Classe di età</th>\n",
       "      <th>Tipo attività</th>\n",
       "      <th>Periodo temporale di riferimento</th>\n",
       "      <th></th>\n",
       "    </tr>\n",
       "  </thead>\n",
       "  <tbody>\n",
       "    <tr>\n",
       "      <th rowspan=\"5\" valign=\"top\">15-24 anni</th>\n",
       "      <th rowspan=\"5\" valign=\"top\">dormire, mangiare e altra cura della persona</th>\n",
       "      <th>giorno medio settimanale 00:00 - 00:10</th>\n",
       "      <td>73.0</td>\n",
       "    </tr>\n",
       "    <tr>\n",
       "      <th>giorno medio settimanale 00:10 - 00:20</th>\n",
       "      <td>75.8</td>\n",
       "    </tr>\n",
       "    <tr>\n",
       "      <th>giorno medio settimanale 00:20 - 00:30</th>\n",
       "      <td>77.4</td>\n",
       "    </tr>\n",
       "    <tr>\n",
       "      <th>giorno medio settimanale 00:30 - 00:40</th>\n",
       "      <td>80.6</td>\n",
       "    </tr>\n",
       "    <tr>\n",
       "      <th>giorno medio settimanale 00:40 - 00:50</th>\n",
       "      <td>82.1</td>\n",
       "    </tr>\n",
       "  </tbody>\n",
       "</table>\n",
       "</div>"
      ],
      "text/plain": [
       "                                                                                                   Value\n",
       "Classe di età Tipo attività                                Periodo temporale di riferimento             \n",
       "15-24 anni    dormire, mangiare e altra cura della persona giorno medio settimanale 00:00 - 00:10   73.0\n",
       "                                                           giorno medio settimanale 00:10 - 00:20   75.8\n",
       "                                                           giorno medio settimanale 00:20 - 00:30   77.4\n",
       "                                                           giorno medio settimanale 00:30 - 00:40   80.6\n",
       "                                                           giorno medio settimanale 00:40 - 00:50   82.1"
      ]
     },
     "execution_count": 19,
     "metadata": {},
     "output_type": "execute_result"
    }
   ],
   "source": [
    "settimanale.head()"
   ]
  }
 ],
 "metadata": {
  "interpreter": {
   "hash": "93666b5a1fe4c6bacbf10fc73f32170c66ef79f0ec8c7083b246bea75e99de80"
  },
  "kernelspec": {
   "display_name": "Python 3 (ipykernel)",
   "language": "python",
   "name": "python3"
  },
  "language_info": {
   "codemirror_mode": {
    "name": "ipython",
    "version": 3
   },
   "file_extension": ".py",
   "mimetype": "text/x-python",
   "name": "python",
   "nbconvert_exporter": "python",
   "pygments_lexer": "ipython3",
   "version": "3.9.7"
  }
 },
 "nbformat": 4,
 "nbformat_minor": 5
}
